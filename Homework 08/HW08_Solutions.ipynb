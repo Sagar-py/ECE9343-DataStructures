{
 "cells": [
  {
   "cell_type": "markdown",
   "id": "driving-formation",
   "metadata": {},
   "source": [
    "# EL9343 Homework 08\n",
    "\n",
    "**Spring 2022**\n",
    "\n",
    "<br>**Name:** Sagar Patel </br>\n",
    "<br>**NETID:** SP5894 </br>"
   ]
  },
  {
   "cell_type": "markdown",
   "id": "composed-crowd",
   "metadata": {},
   "source": [
    "## Question 01\n",
    "What is the running time of DFS if the graph is given as an adjacency list and adjacency matrix? Justify your running time.\n",
    "\n",
    "### Solution\n",
    "If the number of the nodes in graph is $V$ and the number of edges in the graph are $E$, then the running time would be $-$\n",
    "<br>Adjacency list: $O(V+E)$</br>\n",
    "<br>Adjacency matrix: $O(V^2)$ </br>\n",
    "\n",
    "In DFS, we will visit every node once and visit those nodes that are adjacent to them. In both the cases, we first need $O(V)$ time to visit all nodes.\n",
    "\n",
    "If we use adjacency list, we only need to visit every edge in each list which is $O(E)$. So, the total running time will $O(V)+O(E)=O(V+E)$.\n",
    "\n",
    "If we use the adjacency matrix, although there are only $E$ edges, once we visit a node (i.e., the $i^{th}$ node), we will visit the element in the $i^{th}$ row of the adjacency matrix. In total, we will visit every element in the adjacency matrix, which is $V^2$. So, the total running time will be $O(V^2)+O(V)=O(V^2)$."
   ]
  },
  {
   "cell_type": "markdown",
   "id": "strong-carter",
   "metadata": {},
   "source": [
    "## Question 02\n",
    "Run DFS on the graph below, assume that DFS considers vertices in alphabetical order and the adjacency lists are also alphabetical order. Show the discover times and finishing times of each vertex in the graph.\n",
    "\n",
    "![Image 1](image1.png)\n",
    "\n",
    "### Solution\n",
    "The numbers are entered in the format $-$ **(Discover Times, Finishing Times)**.\n",
    "\n",
    "![Image 2](image2.png)"
   ]
  },
  {
   "cell_type": "markdown",
   "id": "molecular-absorption",
   "metadata": {},
   "source": [
    "## Question 03\n",
    "Write a method that takes any two nodes $u$ and $v$ in a tree $T$, and quickly determines if the node $u$ in the tree is a *descendant* or *ancestor* of node $v$.\n",
    "\n",
    "### Solution\n",
    "We could run DFS on a tree $T$ and set the start node as the root and record the discover time and finish time over node. Because $T$ is a tree, the number of edges will be $n-1$. So, the total running time is $O(V+E)=O(n+n-1)=O(n)$. As we have proved in the textbook, given any 2 nodes $u$, $v$ in the DFS tree, if $u.d < v.d < v.f < u.f$, $u$ is the ancestor of $v$. Else if $v.d < u.d < u.f < v.f$, $u$ is the descendant of $v$. Because we only need $O(n)$ time to complete DFS and store the discover time and finish time. Other operations are in constant time $O(1)$, so the total running time is $O(n)$. More specifically, we need $O(n)$ time to initialize and $O(1)$ time to determine the relationship between two nodes."
   ]
  },
  {
   "cell_type": "markdown",
   "id": "rapid-complexity",
   "metadata": {},
   "source": [
    "## Question 04\n",
    "Draw the parenthesis structure of the dfs of Figure 1 (start from u, assume that DFS considers vertices in alphabetical order) and see the example parenthesis structure as Figure 2.\n",
    "\n",
    "### Solution\n",
    "`(u(v(y(xx)y)v)u)(w(zz)w)`"
   ]
  }
 ],
 "metadata": {
  "kernelspec": {
   "display_name": "Python 3",
   "language": "python",
   "name": "python3"
  },
  "language_info": {
   "codemirror_mode": {
    "name": "ipython",
    "version": 3
   },
   "file_extension": ".py",
   "mimetype": "text/x-python",
   "name": "python",
   "nbconvert_exporter": "python",
   "pygments_lexer": "ipython3",
   "version": "3.9.1"
  }
 },
 "nbformat": 4,
 "nbformat_minor": 5
}
