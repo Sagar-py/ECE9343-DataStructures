{
 "cells": [
  {
   "cell_type": "markdown",
   "id": "expanded-consultation",
   "metadata": {},
   "source": [
    "# EL9343 Homework 02\n",
    "**Spring 2022**\n",
    "\n",
    "<br>**Name:** Sagar Patel </br>\n",
    "<br>**NETID:** sp5894 </br>"
   ]
  },
  {
   "cell_type": "markdown",
   "id": "fiscal-scale",
   "metadata": {},
   "source": [
    "## Question 01\n",
    "First use the iteration method to solve the recurrence, draw the recursion tree to analyze.\n",
    "<br>$\\quad\\quad T(n) = T(\\frac{n}{2}) + T(\\frac{n}{3}) + n$ </br>\n",
    "\n",
    "Then use the substitution method to verify your solution.\n",
    "\n",
    "### Solution\n",
    "The running time can be analyzed by drawing the recursion tree $-$\n",
    "\n",
    "$<Insert Image here>$\n",
    "    \n",
    "As we can observe, the right child of the node in this tree has a smaller problem size and that indicates there are some empty nodes in this tree (as shown). We can compute the height of the left side $h_1$ and right side $h_2$ of this tree to get the upper bound and the lower bound.\n",
    "\n",
    "$\\therefore$ We have,\n",
    "<br>$c_1 \\le T(n) \\le c_2 \\Rightarrow n + \\frac{5}{6}.n + ... + (\\frac{5}{6})^{log_3 n}.n \\le T(n) \\le n + \\frac{5}{6}.n + (\\frac{5}{6})^{log_2 n}.n$ </br>\n",
    "<br>**Note that $\\rightarrow$ ($a^{log_b n} = n^{log_b a}$) and that is because $\\Rightarrow$ {$a^{log_b n} = a^{log_b a^{log_a n}} = a^{log_a n.log_b a} = n^{log_b a}$}** </br>\n",
    "<br>$c_1 = n + \\frac{5}{6}.n + ... + (\\frac{5}{6})^{log_3 n}.n \\Rightarrow n.(1 + \\frac{5}{6} + ... + (\\frac{5}{6})^{log_3 n}) \\Rightarrow n.\\frac{1 -(\\frac{5}{6})^{log_3 n +1}}{1 -(\\frac{5}{6})} \\Rightarrow 6n.(1-\\frac{5}{6}.n^{log_3 \\frac{5}{6}}) \\Rightarrow \\Theta(n)$ </br>\n",
    "<br>$c_2 = n + \\frac{5}{6}.n + ... + (\\frac{5}{6})^{log_2 n}.n \\Rightarrow n.(1 + \\frac{5}{6} + ... + (\\frac{5}{6})^{log_2 n}) \\Rightarrow n.\\frac{1 -(\\frac{5}{6})^{log_2 n +1}}{1 -(\\frac{5}{6})} \\Rightarrow 6n.(1-\\frac{5}{6}.n^{log_2 \\frac{5}{6}}) \\Rightarrow \\Theta(n)$ </br>\n",
    "<br>$\\therefore$ We can say that $T(n) = \\Theta(n)$ </br>\n",
    "\n",
    "<br>**The upper bound:** </br>\n",
    "<br>--- Induction Hypothesis: $T(k) \\le d.k$ for all $k<n$ </br>\n",
    "<br>$\\therefore T(n) = T(\\frac{n}{2}) + T(\\frac{n}{3}) + n \\Rightarrow T(n) \\le (d.\\frac{n}{2} + d.\\frac{n}{3} + n) \\Rightarrow T(n) \\le (d.\\frac{5}{6}.n + n)$ </br>\n",
    "<br>In order to satisfy the condition of having $T(n) \\le d.n$, we can set $-$ </br>\n",
    "<br>$(d.\\frac{5}{6}.n + n) \\le d.n \\Rightarrow n \\le \\frac{d}{6}.n \\Rightarrow d \\ge 6$ </br>\n",
    "<br>Should we set $d \\ge 6$, $T(n) \\le d.n$ and that means $T(n)= O(n)$ </br>\n",
    "\n",
    "<br>**The lower bound:** </br>\n",
    "<br>--- Induction Hypothesis: $T(k) \\ge c.k$ for all $k<n$ </br>\n",
    "<br>$\\therefore T(n) = T(\\frac{n}{2}) + T(\\frac{n}{3}) + n \\Rightarrow T(n) \\ge (c.\\frac{n}{2} + c.\\frac{n}{3} + n) \\Rightarrow T(n) \\ge (c.\\frac{5}{6}.n + n)$ </br>\n",
    "<br>In order to satisfy the condition of having $T(n) \\ge c.n$, we can set $-$ </br>\n",
    "<br>$(c.\\frac{5}{6}.n + n) \\ge c.n \\Rightarrow n \\ge \\frac{c}{6}.n \\Rightarrow c \\le 6$ </br>\n",
    "<br>Should we set $c \\le 6$, $T(n) \\ge c.n$ and that means $T(n)= \\Omega(n)$ </br>\n",
    "\n",
    "Since, it is implied that $T(n) = \\Theta(n)$, we know that the constant efficient is 6."
   ]
  },
  {
   "cell_type": "markdown",
   "id": "popular-converter",
   "metadata": {},
   "source": [
    "## Question 02\n",
    "Use the substitution method to prove that $T(n) = 2T.(\\frac{n}{2}) + cn.log_2 n$ is $O(n(log_2 n)^2)$\n",
    "\n",
    "### Solution\n",
    "<br>For $n=1$, $T(1)=1$ which is greater than 0 as $d.1.log_2 1 = 0,$ so we set the boundary condition as 2 so that our base will be $T(2) \\le d.2.(log_2 2)^2$ </br>\n",
    "<br>--- Induction Hypothesis: $T(k) \\le dk.(log_2 k)^2$ if we have $k<n$ for all values </br>\n",
    "<br>$T(n) = (2T(\\frac{n}{2}) + cn.log_2 n) \\Rightarrow T(n) \\le (2d.\\frac{n}{2}(log_2 \\frac{n}{2})^2 + cn.log_2 n)$ </br>\n",
    "<br>$\\Rightarrow T(n) = dn(log_2 n-1)^2 + cn.log_2 n$ </br>\n",
    "<br>$\\Rightarrow T(n) = dn(log_2 n)^2 -2dn(log_2 n) + dn + cn.log_2 n$ </br>\n",
    "<br>Should we set $(-2dn.log_2 n + dn + cn.log_2 n \\le 0)$, then the statement is smaller than $dn(log_2 n)^2$ </br>\n",
    "<br>$\\Rightarrow (2.log_2 n -1).nd \\ge cn.log_2 n$ $\\Rightarrow (2.log_2 n -1).d \\ge c.log_2 n$ </br>\n",
    "<br>$\\Rightarrow d \\ge \\frac{c.log_2 n}{2.log_2 n-1} = c.\\frac{1}{2-\\frac{1}{log_2 n}}$ and that's a decrease from +2 to $\\infty$ </br>\n",
    "<br>Now, if we set $d \\ge c$, $c.\\frac{1}{2-\\frac{1}{log_2 n}} \\le c.\\frac{1}{2-\\frac{1}{log_2 2}} = c$ and we can also see that $T(n) \\le dn.(log_2 n)^2$ </br>\n",
    "\n",
    "$\\therefore T(n) = O(n(log_2 n)^2)$"
   ]
  },
  {
   "cell_type": "markdown",
   "id": "disturbed-plumbing",
   "metadata": {},
   "source": [
    "## Question 03\n",
    "Solving the recurrence:\n",
    "<br>$\\quad \\quad T(n) = 3T (\\sqrt[3]{n}) + log_2 n$ </br>\n",
    "\n",
    "*(Hint: Making change of variable)*\n",
    "\n",
    "### Solution\n",
    "<br>If we have $m = log_2 n$, the equation will be $-$ </br>\n",
    "<br>$\\Rightarrow T(2^m) = 3T.(2^\\frac{m}{3}) + m$ </br>\n",
    "<br>Replacing $T(2^m)$ with $P(m)$, the equation will be $-$ </br>\n",
    "<br>$\\Rightarrow P(m) = 3P(\\frac{m}{3}) + m$ </br>\n",
    "<br>We can make use of the master method to the get the solution of $P(m)$ as $P(m) = \\Theta(m.log m)$ and we substitute it back to the result. </br>\n",
    "<br>$T(n) = T(2^m) \\Rightarrow P(m)= \\Theta(m.log m)$ </br>\n",
    "<br>$\\Rightarrow \\Theta(m.log m) = \\Theta(log n * log(log n))$ </br>"
   ]
  },
  {
   "cell_type": "markdown",
   "id": "exceptional-trainer",
   "metadata": {},
   "source": [
    "## Question 04\n",
    "You have three algorithms to a problem and you do not know their efficiency, but fortunately, you find the recurrence formulas for each solution, which are shown as follows:\n",
    "\n",
    "<br>A. $T(n) = 3T(\\frac{n}{3}) + \\Theta(n)$ </br>\n",
    "<br>B. $T(n) = 2T(\\frac{9n}{10}) + \\Theta(n)$ </br>\n",
    "<br>C. $T(n) = 3T(\\frac{n}{3}) + \\Theta(n^2)$ </br>\n",
    "\n",
    "Please give the running time of each algorithm (In $\\Theta$ notation), and which of your algorithms is the fastest (You probably can do this without a calculator)?\n",
    "\n",
    "### Solution\n",
    "<br>**--- Algorithm A** </br>\n",
    "<br>We know the following $-$ </br>\n",
    "<br>$f(n) = \\Theta(n)$, $a = 3$, $b = 3$, $d = 1$, $log_b a = log_3 3 = 1 =d$ </br>\n",
    "<br>$\\therefore T(n)= \\Theta(n^{log_b a}* log n) = \\Theta(n.logn)$ </br>\n",
    "\n",
    "<br>**--- Algorithm B** </br>\n",
    "<br>We know the following $-$ </br>\n",
    "<br>$f(n) = \\Theta(n)$, $a = 2$, $b = \\frac{10}{9}$, $d = 1$, $log_b a = log_{\\frac{10}{9}} 2 > 1 =d$ </br>\n",
    "<br>$\\therefore T(n)= \\Theta(n^{log_b a}) = \\Theta(n^{log_{\\frac{10}{9}}2})$ </br>\n",
    "\n",
    "<br>**--- Algorithm C** </br>\n",
    "<br>We know the following $-$ </br>\n",
    "<br>$f(n) = \\Theta(n^2)$, $a = 3$, $b = 3$, $d = 2$, $log_b a = log_3 3 = 1 < 2=d$ </br>\n",
    "<br>$\\therefore T(n)= \\Theta(f(n)) = \\Theta(n^2)$ </br>\n",
    "\n",
    "Upon visual inspection, it is safe to state that the **algorithm A** is the fastest."
   ]
  },
  {
   "cell_type": "markdown",
   "id": "activated-canal",
   "metadata": {},
   "source": [
    "## Question 05\n",
    "Can the master theorem be applied to recurrence of $T(n) = T(\\frac{n}{2} + n^2.lgn)$? Why does it work or not? Provide the asymptotic upper bound for this recurrence.\n",
    "\n",
    "### Solution\n",
    "<br>We know the following $-$ </br>\n",
    "<br>$a=1$, $b=2$, $n=log_b a = 0 < n^2$ $\\Rightarrow f(n) = \\Theta(n^2.lgn)$ by satisfying the 3rd case of Master Theorem. </br>\n",
    "<br>Should $a=4$, $b=2$, the solution is given as shown $-$ </br>\n",
    "<br>$t(N) = T(\\frac{n}{2}) + n^2.lgn$ </br>\n",
    "<br>$\\therefore f(n) = n^2.lgn$, $a=1$, $b=2$ </br>\n",
    "<br>$\\Rightarrow n^{log_b a} = n^{log_2 1} = n^0 = 1$ </br>\n",
    "<br>Case 1 and Case 2 do not seem to be applicable for this. </br>\n",
    "<br>Therefore, for case 3: $f(n) = \\Omega(n^{log_b a + \\epsilon})$ holds </br>\n",
    "<br> </br>\n",
    "<br> </br>\n",
    "<br> </br>\n",
    "<br> </br>"
   ]
  },
  {
   "cell_type": "code",
   "execution_count": null,
   "id": "detailed-constraint",
   "metadata": {},
   "outputs": [],
   "source": []
  }
 ],
 "metadata": {
  "kernelspec": {
   "display_name": "Python 3",
   "language": "python",
   "name": "python3"
  },
  "language_info": {
   "codemirror_mode": {
    "name": "ipython",
    "version": 3
   },
   "file_extension": ".py",
   "mimetype": "text/x-python",
   "name": "python",
   "nbconvert_exporter": "python",
   "pygments_lexer": "ipython3",
   "version": "3.9.1"
  }
 },
 "nbformat": 4,
 "nbformat_minor": 5
}
