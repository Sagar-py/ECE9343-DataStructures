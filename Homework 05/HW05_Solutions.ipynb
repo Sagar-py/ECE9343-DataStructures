{
 "cells": [
  {
   "cell_type": "markdown",
   "id": "decimal-suicide",
   "metadata": {},
   "source": [
    "# EL9343 Homework 05\n",
    "\n",
    "**Spring 2022**\n",
    "\n",
    "<br>**Name:** Sagar Patel </br>\n",
    "<br>**NETID:** sp5894 </br>"
   ]
  },
  {
   "cell_type": "markdown",
   "id": "minimal-medicaid",
   "metadata": {},
   "source": [
    "## Question 01\n",
    "Exercise 7.4-5 in CLRS Textbook.\n",
    "\n",
    "### Solution\n",
    "If we are only doing quick-sort until the problem size becomes $\\le k$, then, we will have to take $lg(\\frac{n}{k})$ steps, since, as in the original analysis of randomized quick sort, we expect there to be $lg(n)$ levels to the recursion tree. Since we then just call quicksort on the entire array, we know that each element is within $k$ of its final position. This means that an insertion sort will take the shifting of at most $k$ elements for every element that needed to change position. This gets us the running time described. In theory, we should pick $k$ to minimize this expression, that is, taking a derivative with respect to $k$, we want it to be evaluating to zero. So, $n − \\frac{n}{k} = 0$. The constant of proportionality will depend on the relative size of the constants in the nk term and in the $n.lg(\\frac{n}{k})$ term. In practice, we would try it with a large number of input sizes for various values of $k$, because there are gritty properties of the machine not considered here such as cache line size."
   ]
  },
  {
   "cell_type": "markdown",
   "id": "prescribed-awareness",
   "metadata": {},
   "source": [
    "## Question 02\n",
    "Exercise 7-2 in CLRS Textbook.\n",
    "\n",
    "#### 2.a\n",
    "### Solution\n",
    "Since all elements are the same, the initial random choice of index and swap change nothing. Thus, randomized quicksort’s running time will be the same as that of quicksort. Since all elements are equal, $PARTITION(A, P, r)$ will always return $r − 1$. This is worst-case partitioning, so the runtime is $\\Theta(n^2)$.\n",
    "\n",
    "#### 2.b\n",
    "### Solution\n",
    "```\n",
    "PARTITION'(A, P, r):\n",
    "    x = A[p]\n",
    "    i = p-1\n",
    "    k = p\n",
    "    for j in range (p+1,r):\n",
    "        if (A[j] < x):\n",
    "            i++\n",
    "            k++\n",
    "            SWAP A[i] and A[j]\n",
    "            SWAP A[k] and A[j]\n",
    "            \n",
    "        if (A[j] == x):\n",
    "            k++\n",
    "            SWAP A[k] and A[j]\n",
    "            \n",
    "    return (i+1, k)\n",
    "```\n",
    "\n",
    "#### 2.c\n",
    "### Solution\n",
    "```\n",
    "RANDOMIZED-PARTITION'\n",
    "    i = RANDOM(p, r)\n",
    "    SWAP A[r] and A[i]\n",
    "    return PARTITION'(A,p,r)\n",
    "    \n",
    "QUICKSORT'(A,p,r):\n",
    "    if (p < r):\n",
    "        (q,t) = RANDOMIZED - PARTITION'\n",
    "        QUICKSORT'(A,p,q-1)\n",
    "        QUICKSORT'(A,t+1,r)\n",
    "```\n",
    "\n",
    "#### 2.d\n",
    "### Solution\n",
    "Let $d$ be the number of distinct elements in $A$. The running time is dominated by the time spent in the $PARTITION$ procedure, and there can be at most $d$ calls to $PARTITION$. If $X$ is the number of comparisons performed in line 4 of $PARTITION$ over the entire execution of $QUICKSORT’$, then the running time is $O(d + X)$. It remains true that each pair of elements is compared at most once. If $z_i$ is the $i$-th smallest element, we need to compute the probability that $z_i$ is compared to $z_j$ . This time, once a pivot $x$ is chosen with $z_i \\le x \\le z_j$ , we know that $z_i$ and $z_j$ cannot be compared at any subsequent time. This is where the analysis differs, because there could be many elements of the array equal to $z_i$ or $z_j$ , so the probability that $z_i$ and $z_j$ are compared decreases. However, the expected percentage of distinct elements in a random array tends to $1-\\frac{1}{e}$ , so asymptotically the expected number of comparisons is the same."
   ]
  },
  {
   "cell_type": "markdown",
   "id": "visible-spring",
   "metadata": {},
   "source": [
    "## Question 03\n",
    "Similar to Figure 8.2, illustrate the operation of COUNTING-SORT on $A=[7,1,8,2,3,6,4,1,5,3]$\n",
    "\n",
    "### Solution\n",
    "![Image 1](image1.png)"
   ]
  },
  {
   "cell_type": "markdown",
   "id": "defined-richardson",
   "metadata": {},
   "source": [
    "## Question 04\n",
    "Exercise 9.1-2 in CLRS Textbook.\n",
    "\n",
    "### Solution\n",
    "If $n$ is odd, there are $-$\n",
    "<br>$1 +\\frac{3(n-3)}{2}+2 = \\frac{3n}{2} - \\frac{3}{2}$ </br>\n",
    "<br>$\\Rightarrow (\\frac{3n}{2} - \\frac{1}{2}) - \\frac{3}{2} \\Rightarrow (\\frac{3n}{2}) - 2$ comparisons. </br>\n",
    "\n",
    "If $n$ is even, there are $-$\n",
    "<br>$1+\\frac{3(n-2)}{2}= \\frac{3n}{2} - 2$ </br>\n",
    "<br>$\\Rightarrow (\\frac{3n}{2}) - 2$ comparisons. </br>"
   ]
  },
  {
   "cell_type": "markdown",
   "id": "ultimate-disclosure",
   "metadata": {},
   "source": [
    "## Question 05\n",
    "Problem 9-1 in CLRS Textbook.\n",
    "\n",
    "#### 5.a\n",
    "### Solution\n",
    "Sorting takes time $n.lg(n)$, and listing them out takes time $i$, so the total runtime is $O(n.lg(n) + i)$\n",
    "\n",
    "#### 5.b\n",
    "### Solution\n",
    "Heapifying takes time $n.lg(n)$, and each extraction can take time $lg(n)$, so, the total runtime is $O((n + i) lg(n))$\n",
    "\n",
    "#### 5.c\n",
    "### Solution\n",
    "Finding and partitioning around the $i$-th largest takes time $n$. Then, sorting the subarray of length $i$ coming from the partition takes time $i.lg(i)$. So, the total runtime is $O(n + ilg(i))$."
   ]
  }
 ],
 "metadata": {
  "kernelspec": {
   "display_name": "Python 3",
   "language": "python",
   "name": "python3"
  },
  "language_info": {
   "codemirror_mode": {
    "name": "ipython",
    "version": 3
   },
   "file_extension": ".py",
   "mimetype": "text/x-python",
   "name": "python",
   "nbconvert_exporter": "python",
   "pygments_lexer": "ipython3",
   "version": "3.9.1"
  }
 },
 "nbformat": 4,
 "nbformat_minor": 5
}
