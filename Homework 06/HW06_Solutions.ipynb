{
 "cells": [
  {
   "cell_type": "markdown",
   "id": "inclusive-choice",
   "metadata": {},
   "source": [
    "# EL9343 Homework 06\n",
    "\n",
    "**Spring 2022**\n",
    "\n",
    "<br>**Name:** Sagar Patel </br>\n",
    "<br>**NETID:** sp5894 </br>"
   ]
  },
  {
   "cell_type": "markdown",
   "id": "sealed-charger",
   "metadata": {},
   "source": [
    "## Question 01\n",
    "Demonstrate what happens when we insert the keys $26, 10, 20, 39, 2, 35, 19, 8, 22, 5$ into a hash table with collisions resolved by chaining. Let the table have $9$ slots, and let the hash function be $h(k)$ = $k$ mod $9$.\n",
    "\n",
    "### Solution\n",
    "The hash table is as shown $-$\n",
    "\n",
    "![image 1](image1.png)"
   ]
  },
  {
   "cell_type": "markdown",
   "id": "finished-advice",
   "metadata": {},
   "source": [
    "## Question 02\n",
    "Exercise 11.2-1 in CLRS Textbook.\n",
    "\n",
    "### Solution\n",
    "Under the assumption of simple uniform hashing, we will be using the linearity of expectation to compute it $-$ assuming that all the keys are ordered in the format $\\{k_1,k_2,...,k_n\\}$. Let $X_i$ be the number of $1>k_i$ such that $h(1)=h(k_i)$. Note that it is the same as $\\sum_{j>i} P(h(k_j) = h(k_i)) \\Rightarrow \\sum_{j>i} \\frac{1}{m} \\Rightarrow \\frac{(n-i)}{m}$. By the linearity of expectations, the number of collisions is the sum of number of collisions for each possible smallest element in the collision.\n",
    "\n",
    "Therefore, the expected number of collisions will be $-$ $\\sum_{i=1}^n \\frac{n-i}{m} = \\frac{n^2 - \\frac{n(n+1)}{2}}{m} = \\frac{n^2 - n}{2m}$"
   ]
  },
  {
   "cell_type": "markdown",
   "id": "ordinary-moscow",
   "metadata": {},
   "source": [
    "## Question 03\n",
    "For the set of $\\{2, 3, 8, 10, 16, 17, 22\\}$ of keys, draw binary search trees of heights $2, 3, 4, 5,$ and $6$.\n",
    "\n",
    "### Solution\n",
    "NOTE: All the diagrams have been drawn using draw.io\n",
    "\n",
    "<br>-- For height **h=2** </br>\n",
    "![Image 2](image2.png)\n",
    "\n",
    "<br>-- For height **h=3** </br>\n",
    "![Image 3](image3.png)\n",
    "\n",
    "<br>-- For height **h=4** </br>\n",
    "![Image 4](image4.png)\n",
    "\n",
    "<br>-- For height **h=5** </br>\n",
    "![Image 5](image5.png)\n",
    "\n",
    "<br>-- For height **h=6** </br>\n",
    "![Image 6](image6.png)"
   ]
  },
  {
   "cell_type": "markdown",
   "id": "young-thursday",
   "metadata": {},
   "source": [
    "## Question 04\n",
    "For the following binary search tree, show the result of following operations (Please follow the algorithm from the lecture/textbook):\n",
    "![Image 7](image7.png)\n",
    "\n",
    "#### 4.a\n",
    "Delete B.\n",
    "### Solution\n",
    "![Image 8](image8.png)\n",
    "\n",
    "#### 4.b\n",
    "Delete C from the result of 4.a\n",
    "### Solution\n",
    "![Image 9](image9.png)\n",
    "\n",
    "#### 4.c\n",
    "Delete A from the result of 4.b\n",
    "### Solution\n",
    "![Image 10](image10.png)\n",
    "\n",
    "#### 4.d\n",
    "Delete A from the original tree.\n",
    "### Solution\n",
    "![Image 11](image11.png)"
   ]
  }
 ],
 "metadata": {
  "kernelspec": {
   "display_name": "Python 3",
   "language": "python",
   "name": "python3"
  },
  "language_info": {
   "codemirror_mode": {
    "name": "ipython",
    "version": 3
   },
   "file_extension": ".py",
   "mimetype": "text/x-python",
   "name": "python",
   "nbconvert_exporter": "python",
   "pygments_lexer": "ipython3",
   "version": "3.9.1"
  }
 },
 "nbformat": 4,
 "nbformat_minor": 5
}
