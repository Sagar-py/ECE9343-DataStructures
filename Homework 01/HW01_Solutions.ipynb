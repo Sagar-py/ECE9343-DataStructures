{
 "cells": [
  {
   "cell_type": "markdown",
   "id": "visible-survival",
   "metadata": {},
   "source": [
    "# EL9343 Homework 01\n",
    "Spring 2022\n",
    "\n",
    "<br>**Name:** Sagar Patel </br>\n",
    "<br>**NETID:** sp5894 </br>"
   ]
  },
  {
   "cell_type": "markdown",
   "id": "lined-distinction",
   "metadata": {},
   "source": [
    "## Question 01\n",
    "Prove the *Transpose Symmetry* property, i.e., $f(n)=O(g(n))$ if and only if $g(n)=\\Omega(f(n))$.\n",
    "\n",
    "### Solution\n",
    "<br>To prove that $f(n)=O(g(n))$ if and only if $g(n)=\\Omega(f(n))$ </br>\n",
    "\n",
    "Let us consider the Left hand Side $-$\n",
    "<br>If $f(n)=O(g(n))$, then for that condition to satisfy, based on the definition of big-Oh notation, </br>\n",
    "<br>There exists a constant $c$, and $\\Rightarrow f(n) \\le c.g(n)$ </br>\n",
    "<br>And for $c$ to be positive $(c>0) \\Rightarrow g(n) \\ge \\frac{1}{c}.f(n)$  </br>\n",
    "\n",
    "Upon inspecting the equation $[g(n) \\ge \\frac{1}{c}.f(n)]$, we can notice that it closely aligns with the definition of Omega notation $(\\Omega)$,\n",
    "<br>Which implies that $g(n)= \\Omega(f(n))$ </br>\n",
    "\n",
    "Therefore, upon evaluation, **it is proved that $f(n)=O(g(n))$ if and only if $g(n)=\\Omega(f(n))$**"
   ]
  },
  {
   "cell_type": "markdown",
   "id": "labeled-connection",
   "metadata": {},
   "source": [
    "## Question 02\n",
    "Problem 3-1 in CLRS textbook.\n",
    "\n",
    "*Asymptotic behavior of polynomials*\n",
    "<br>where $a_d$ > 0, be a degree-$d$ polynomial in $n$, and let $k$ be a constant. Use the definitions of the asymptotic notations to prove the following properties.</br>\n",
    "\n",
    "#### 2.a\n",
    "If $k \\ge d$, then $p(n)=O(n^k)$.\n",
    "### Solution\n",
    "Let $c_1 = \\frac{a_d}{2}, c_2 = \\frac{3.a_d}{2}, 0 \\le c_1.n^d \\le p(n) \\le c_2.n^d$ for all $n \\ge n_0 \\quad\\quad .... (1)$\n",
    "<br>For a given function $g(n)$, denote $O(g(n))$ as the set of functions given by $-$ </br>\n",
    "<br>$O(g(n)) = \\{f(n):$ there exists positive constants $c$ and $n_0$ such that $0 \\le f(n) \\le c.g(n)$ for all $n \\ge n_0 \\}$ </br>\n",
    "<br>From the given statement, $f(n)=p(n)$ and $g(n)=n^k$, where $k$ is a constant. </br>\n",
    "<br>Given $k \\ge d \\Rightarrow n^d \\le n^k \\Rightarrow c_2.n^d \\le c_2.n^k \\quad\\quad .... (2)$ </br>\n",
    "<br>From equations (1) and (2), $0 \\le p(n) \\le c_2.n^d \\le c_2.n^k$ for all $n \\ge n_0 $ </br>\n",
    "<br>Hence, $p(n)=O(n^k)$ </br>\n",
    "\n",
    "\n",
    "#### 2.b\n",
    "If $k \\le d$, then $p(n)=\\Omega(n^k)$.\n",
    "### Solution\n",
    "<br>For a given function $g(n)$, denote $\\Omega(g(n))$ as the set of functions given by $-$ </br>\n",
    "<br>$\\Omega(g(n)) = \\{f(n):$ there exists positive constants $c$ and $n_0$ such that $0 \\le c.g(n) \\le f(n)$ for all $n \\ge n_0 \\}$ </br>\n",
    "<br>From the given statement, $f(n)=p(n)$ and $g(n)=n^k$, where $k$ is a constant. </br>\n",
    "<br>Given $k \\le d \\Rightarrow n^k \\le n^d \\Rightarrow c_1.n^k \\le c_1.n^d \\quad\\quad .... (3)$ </br>\n",
    "<br>From equations (1) and (3), $0 \\le c_1.n^k \\le c_1.n^d \\le p(n)$ for all $n \\ge n_0 $ </br>\n",
    "<br>Hence, $p(n)=\\Omega(n^k)$ </br>\n",
    "\n",
    "#### 2.c\n",
    "If $k = d$, then $p(n)=\\Theta(n^k)$.\n",
    "### Solution\n",
    "<br>For a given function $g(n)$, denote $\\Theta(g(n))$ as the set of functions given by $-$ </br>\n",
    "<br>$\\Theta(g(n)) = \\{f(n):$ there exists positive constants $c_1, c_2$ and $n_0$ such that $0 \\le c_1.g(n) \\le f(n) \\le c_2.g(n)$ for all $n \\ge n_0 \\}$ </br>\n",
    "<br>From the given statement, $f(n)=p(n)$ and $g(n)=n^k$, where $k$ is a constant. </br>\n",
    "<br>From equation (1), </br>\n",
    "<br>$0 \\le c_1.n^d \\le p(n) \\le c_2.n^d$ for all $n \\ge n_0 $ </br>\n",
    "<br>Hence, $p(n)=\\Theta(n^k)$ </br>\n",
    "\n",
    "#### 2.d\n",
    "If $k > d$, then $p(n)=o(n^k)$.\n",
    "### Solution\n",
    "For a given function $g(n)$, denote $o(g(n))$ as the set of functions given by $-$\n",
    "<br>$o(g(n))=\\{f(n):$ for any positive constants $c>0$, there exist a constant $n_0 > 0$ such that $0 \\le f(n)<c.g(n)$ for all $n \\ge n_0\\}$ </br>\n",
    "<br>From the given statement, $f(n)=p(n)$ and $g(n)=n^k$, where $k$ is a constant.</br>\n",
    "<br>Given $k>d$ $\\Rightarrow n^d < n^k \\Rightarrow c_2.n^d < c_2.n^k \\quad\\quad .... (4)$ </br>\n",
    "<br>From equations (1) and (4), $0 \\le p(n) \\le c_2.n^d < c_2.n^k$ for all $n \\ge n_0$ </br>\n",
    "<br>Hence, $p(n)=o(n^k)$ </br>\n",
    "\n",
    "#### 2.e\n",
    "If $k < d$, then $p(n)=\\omega(n^k)$.\n",
    "### Solution\n",
    "For a given function $g(n)$, denote $\\omega(g(n))$ as the set of functions given by $-$\n",
    "<br>$\\omega(g(n))=\\{f(n):$ for any positive constants $c>0$, there exist a constant $n_0 > 0$ such that $0 \\le c.g(n)<f(n)$ for all $n \\ge n_0\\}$ </br>\n",
    "<br>From the given statement, $f(n)=p(n)$ and $g(n)=n^k$, where $k$ is a constant.</br>\n",
    "<br>Given $k<d$ $\\Rightarrow n^k < n^d \\Rightarrow c_1.n^k < c_1.n^d \\quad\\quad .... (5)$ </br>\n",
    "<br>From equations (1) and (5), $0 \\le c_1.n^k < c_1.n^d \\le p(n)$ for all $n \\ge n_0$ </br>\n",
    "<br>Hence, $p(n)=\\omega(n^k)$ </br>"
   ]
  },
  {
   "cell_type": "markdown",
   "id": "isolated-demonstration",
   "metadata": {},
   "source": [
    "## Question 03\n",
    "Problem 3-2 in CLRS textbook.\n",
    "\n",
    "*Relative asymptotic growths*\n",
    "<br>Indicate, for each pair of expressions (A,B) in the table below, whether $A$ is $O$, $o$, $\\Omega$, $\\omega,$ or $\\Theta$ of $B$. Assume that $k \\ge 1$, $\\epsilon >0$, and $c>1$ are constants. Your answer should be in the form of the table with “yes” or “no” written in each box. </br>\n",
    "\n",
    "### Solution\n",
    "\n",
    "| $A$ | $B$ | $O$ | $o$ | $\\Omega$ | $\\omega$ | $\\Theta$ |\n",
    "| :-: | :-: | --- | --- | -------- | -------- | -------- |\n",
    "| $lg^k n$ | $n^{\\epsilon}$ | Yes | Yes | No | No | No | \n",
    "| $n^k$ | $c^n$ | Yes | Yes | No | No | No |\n",
    "| $\\sqrt{n}$ | $n^{sin n}$ | No | No | No | No | No |\n",
    "| $2^n$ | $2^{n/2}$ | No | No | Yes | Yes | Yes |\n",
    "| $n^{lg c}$ | $c^{lg n}$ | Yes | No | Yes | No | Yes |\n",
    "| $lg(n!)$ | $lg(n^n)$ | Yes | No | Yes | No | Yes |"
   ]
  },
  {
   "cell_type": "markdown",
   "id": "japanese-conflict",
   "metadata": {},
   "source": [
    "## Question 04\n",
    "For each algorithm write down all the possible formulas that could be associated with it.\n",
    "\n",
    "### Solution\n",
    "For the sake of understanding, I will tabulate them\n",
    "\n",
    "| Formula | A1 | A2 | A3 | A4 | A5 |\n",
    "| :-----: | -- | -- | -- | -- | -- |\n",
    "| a | No | Yes | Yes | Yes | Yes |\n",
    "| b | No | No | Yes | Yes | No |\n",
    "| c | Yes | No | Yes | Yes | Yes |\n",
    "| d | Yes | No | No | Yes | Yes |\n",
    "| e | No | No | Yes | No | No |\n",
    "| f | No | No | Yes | Yes | No |\n",
    "| g | No | No | Yes | Yes | No |"
   ]
  },
  {
   "cell_type": "markdown",
   "id": "advanced-invitation",
   "metadata": {},
   "source": [
    "## Question 05\n",
    "For the following algorithm: Show what is printed by the following algorithm when called with MAXIMUM(A, 1, 5) where A = [10, 8, 6, 4, 2]? Where the function PRINT simple prints its arguments in some appropriate manner.\n",
    "### Solution\n",
    "The final output will be $-$\n",
    "<br>`8 10` \n",
    "<br>`6 10` \n",
    "<br>`2 4` \n",
    "<br>`4 10`\n",
    "<br>`10 `"
   ]
  }
 ],
 "metadata": {
  "kernelspec": {
   "display_name": "Python 3",
   "language": "python",
   "name": "python3"
  },
  "language_info": {
   "codemirror_mode": {
    "name": "ipython",
    "version": 3
   },
   "file_extension": ".py",
   "mimetype": "text/x-python",
   "name": "python",
   "nbconvert_exporter": "python",
   "pygments_lexer": "ipython3",
   "version": "3.9.1"
  }
 },
 "nbformat": 4,
 "nbformat_minor": 5
}
