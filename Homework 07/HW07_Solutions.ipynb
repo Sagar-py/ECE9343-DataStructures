{
 "cells": [
  {
   "cell_type": "markdown",
   "id": "union-egyptian",
   "metadata": {},
   "source": [
    "# EL9343 Homework 07\n",
    "\n",
    "**Spring 2022**\n",
    "\n",
    "<br>**Name:** Sagar Patel </br>\n",
    "<br>**NETID:** SP5894 </br>"
   ]
  },
  {
   "cell_type": "markdown",
   "id": "ambient-emperor",
   "metadata": {},
   "source": [
    "## Question 01\n",
    "Suppose that we wish to implement a dynamic, open-address hash table. Why might we consider the table to be full when its load factor reaches some value $\\alpha$ that is strictly less than $1$? Describe briefly how to make insertion into a dynamic, open-address hash table run in such a way that the expected value of the amortized cost per insertion is $O(1)$. Why is the expected value of the actual cost per insertion not necessarily $O(1)$ for all insertions? (Exercise 17.4-1 in CLRS Textbook, page 471)\n",
    "\n",
    "### Solution\n",
    "**A.** For a static open-address hash table, we need to note that by Theorem 11.6, if the load factor $\\alpha$ is euqal to 1, the number of probes in an unsuccessful search may reach infinity. Therefore, we must assure that $\\alpha$ is strictly less than 1.\n",
    "<br>Theorem 11.6 states that $-$ \"Given an open-address hash table with a load factor $\\alpha = \\frac{n}{m} < 1$, the expected number of probes in an unsuccessful search is at most $\\frac{1}{1-\\alpha}$, assuming uniform hashing\" </br>\n",
    "\n",
    "**B.** For a static open-address hash table, by Theorem 11.7, as long as we can ensure that table expansion does not change the amortized worst case behavior of insertion, we are guaranteed $O(1)$ insertion.\n",
    "<br>Theorem 11.7 states that $-$ \"Inserting an element into an open-address hash table with a load factor $\\alpha$ requires at most $\\frac{1}{1- \\alpha}$ probes on average, assuming uniform hashing\" </br>\n",
    "<br>To keep insertion time reasonable, insertion into a dynamic open-address hash table can be made to run in $O(1)$ time by expanding when $\\alpha \\ge 0.75$ and contracting when $\\alpha \\le 0.25$ </br>\n",
    "\n",
    "<br>If the table is at least half full $-$ $\\phi_i = \\frac{8}{3}num_i - size_i$ </br>\n",
    "<br>If the table is less than half full $-$ $\\phi_i = \\frac{1}{2}size_i - num_i$ </br>\n",
    "\n",
    "<br>The expansion factor and contraction factor of table size is $2$ and $\\frac{1}{2}$ respectively. When the load factor is less than $\\frac{1}{4}$, the proof of deletion operation is the same. Our objective is to prove that the amortized cost when we expand the hash table is still $O(1)$. </br>\n",
    "<br>$num_i = num_{i-1} + 1$ </br>\n",
    "<br>$size_i = 2.size_{i-1}$ </br>\n",
    "<br>$num_{i-1} = \\frac{3}{4}size_{i-1}$ </br>\n",
    "\n",
    "Therefore, $\\alpha_i = c_i + \\phi_i - \\phi_{i-1}$\n",
    "<br>$\\Rightarrow \\alpha_i = (num_{i-1}+1)+(\\frac{1}{2}size_i - num_i)-(\\frac{8}{3}num_{i-1}-size_{i-1})$ </br>\n",
    "<br>$\\Rightarrow \\alpha_i = (num_{i-1}+1)+2.size_{i-1}-\\frac{11}{3}num_{i-1}-1$ </br>\n",
    "<br>$\\Rightarrow \\alpha_i =(num_{i-1}+1)+\\frac{8}{3}num_{i-1}-\\frac{11}{3}num_{i-1}-1$ </br>\n",
    "<br>$\\Rightarrow \\alpha_i = 0$ </br>\n",
    "<br>$\\Rightarrow \\alpha_i = O(1)$ </br>\n",
    "\n",
    "**C.** The expected value of the actual cost per insertion is not necessarily $O(1)$ for all insertions because the cost of inserting the $m$-th element into a \"full\" table costs $O(m)$, since all $m-1$ items must be copied into the new table before the new element can be inserted."
   ]
  },
  {
   "cell_type": "markdown",
   "id": "supposed-investing",
   "metadata": {},
   "source": [
    "## Question 02\n",
    "Write pseudocode for RIGHT-ROTATE. (Exercise 13.2-1 in CLRS Textbook, page 313)\n",
    "\n",
    "### Solution\n",
    "The pseudocode is as follows $-$\n",
    "\n",
    "```\n",
    "RIGHT-ROTATE(T, Y)\n",
    "    X = Y.left\n",
    "    Y.left = X.right\n",
    "    if (X.right != T.nil):\n",
    "        X.right.p = Y\n",
    "    X.p = Y.p\n",
    "    if (Y.p == T.nil):\n",
    "        T.root = X\n",
    "    elif (Y == Y.p.right):\n",
    "        Y.p.right = X\n",
    "    else:\n",
    "        Y.p.left = X\n",
    "    X.right = Y\n",
    "    Y.p = X\n",
    "```"
   ]
  },
  {
   "cell_type": "markdown",
   "id": "considered-velvet",
   "metadata": {},
   "source": [
    "## Question 03\n",
    "Demonstrate what happens when we insert the keys $[5, 28, 19, 15, 20, 33, 12, 17, 10]$ into a hash table with collisions resolved by chaining. Let the table have $9$ slots and let the hash function be $h(k) = k.mod.9$.\n",
    "\n",
    "### Solution\n",
    "![Image 1](image1.png)"
   ]
  },
  {
   "cell_type": "markdown",
   "id": "romantic-yesterday",
   "metadata": {},
   "source": [
    "## Question 04\n",
    "Building an AVL Tree out of the Binary Search Tree according to the rotation operations in the lecture. (You can simply give the final result.)\n",
    "![Image 2](image2.png)\n",
    "\n",
    "### Solution\n",
    "<br>**--** A double rotation + A single rotation </br>\n",
    "<br>After double rotation $-$ </br>\n",
    "![Image 3](image3.png)\n",
    "<br>Then a single rotation $-$ </br>\n",
    "![Image 4](image4.png)\n",
    "\n",
    "<br>**--** A single rotation $-$ </br>\n",
    "![Image 5](image5.png)"
   ]
  }
 ],
 "metadata": {
  "kernelspec": {
   "display_name": "Python 3",
   "language": "python",
   "name": "python3"
  },
  "language_info": {
   "codemirror_mode": {
    "name": "ipython",
    "version": 3
   },
   "file_extension": ".py",
   "mimetype": "text/x-python",
   "name": "python",
   "nbconvert_exporter": "python",
   "pygments_lexer": "ipython3",
   "version": "3.9.1"
  }
 },
 "nbformat": 4,
 "nbformat_minor": 5
}
